{
 "cells": [
  {
   "cell_type": "code",
   "execution_count": 1,
   "metadata": {},
   "outputs": [],
   "source": [
    "import pandas as pd\n",
    "import numpy as np\n",
    "from sklearn.pipeline import Pipeline"
   ]
  },
  {
   "cell_type": "code",
   "execution_count": 2,
   "metadata": {},
   "outputs": [],
   "source": [
    "def getSignal(events, stepSize, prob, pred, numClasses, numThreads, **kargs):\n",
    "    #bet sizing signal from predictions\n",
    "    if prob.shape[0]==0:\n",
    "        return pd.series()\n",
    "    #1. Generate signal from multinomial classification (one vs rest (OvR))\n",
    "    signal0 = (prob-1./numClasses)/(prob*(1.-prob))**.5 #t-value of OvR\n",
    "    signal0 = pred*(2*norm.cdf(signal0)-1) #signal = side * size\n",
    "    if 'side' in events:\n",
    "        signal0*=events.loc[signal0.index, 'side'] #meta labeling\n",
    "        \n",
    "    #2. compute avg symbol amongst those concurrently open \n",
    "    df0 = signal0.to_frame('signal').join(events[['t1']], how='left')\n",
    "    df0 = avgActiveSignals(df0, numThreads)\n",
    "    signal1 = discreteSignal(signal0=df0, stepSize=stepSize)\n",
    "    return signal1\n",
    "    "
   ]
  },
  {
   "cell_type": "code",
   "execution_count": 3,
   "metadata": {},
   "outputs": [],
   "source": [
    "#averaging across active bets\n",
    "def mpAvgActiveSignals(signals, molecule):\n",
    "    ''' at time loc, average signal among those still active. signal is active if: \n",
    "    1. issued before or at loc and \n",
    "    2. loc before signals end time, or endtime still unknown'''\n",
    "    out = pd.Series()\n",
    "    for loc in molecule:\n",
    "        df0 = (signals.index.values<=loc)&((loc<signals['t1'])|pd.isnull(signals['t1']))\n",
    "        act = signals[df0].index\n",
    "        if len(act)>0: \n",
    "            out[loc] = signals.loc[act, 'signal'].mean()\n",
    "        else:\n",
    "            out[loc]= 0 #no active signals\n",
    "        return out\n",
    "def avgActiveSignals(signals, numThreads):\n",
    "    #1. time points where signals change (either one starts or one ends)\n",
    "    tPnts = set(signals['t1'].dropna().values)\n",
    "    tPnts = tPnts.union(signals.index.values)\n",
    "    tPnts = list(tPnts); tPnts.sort()\n",
    "    out = mpPandasObj(mpAvgActiveSignals, ('molecule',tPnts), numThreads, signals=signals)\n",
    "    return out "
   ]
  },
  {
   "cell_type": "code",
   "execution_count": 4,
   "metadata": {},
   "outputs": [],
   "source": [
    "#size discretization to prevent overtrading\n",
    "def discreteSignal(signal0, stepSize):\n",
    "    signal1 = (signal0/stepSize).round()*stepSize\n",
    "    signal1[signal1>1] = 1 # cap\n",
    "    signal1[signal1<-1] = -1 #floor\n",
    "    return signal1"
   ]
  },
  {
   "cell_type": "code",
   "execution_count": 8,
   "metadata": {},
   "outputs": [],
   "source": [
    "#dynamic position sizing and limit price\n",
    "def betSize(w, x):\n",
    "    return x*(w+x**2)**-.5\n",
    "def getTPos(w,f, mP, maxPos):\n",
    "    return int(betSize(w,f-mP)*maxPos)\n",
    "def invPrice(f, w, m):\n",
    "    return f-m*(w/(1-m**2))**-.5\n",
    "def limitPrice(tPos, pos, f, w, maxPos):\n",
    "    sgn = (1 if tPos>=pos else -1)\n",
    "    lP=0\n",
    "    for j in range(abs(pos+sgn), abs(tPos+1)):\n",
    "        lP+=invPrice(f,w,j/float(maxPos))\n",
    "    lP/=tPos-pos\n",
    "    return lP\n",
    "def getW(x, m):\n",
    "    return x**2*(m**-2-1)\n",
    "def main():\n",
    "    pos, maxPos, mP, f, wParams = 0, 100, 100, 115, {'divergence':10, 'm':.95}\n",
    "    w = getW(wParams['divergence'], wParams['m'])\n",
    "    tPos = getTPos(w,f, mP, maxPos)\n",
    "    lP = limitPrice(tPos, pos, f,w,maxPos)\n",
    "    return\n",
    "    "
   ]
  },
  {
   "cell_type": "code",
   "execution_count": null,
   "metadata": {},
   "outputs": [],
   "source": []
  },
  {
   "cell_type": "code",
   "execution_count": null,
   "metadata": {},
   "outputs": [],
   "source": []
  }
 ],
 "metadata": {
  "kernelspec": {
   "display_name": "Python 3",
   "language": "python",
   "name": "python3"
  },
  "language_info": {
   "codemirror_mode": {
    "name": "ipython",
    "version": 3
   },
   "file_extension": ".py",
   "mimetype": "text/x-python",
   "name": "python",
   "nbconvert_exporter": "python",
   "pygments_lexer": "ipython3",
   "version": "3.6.5"
  }
 },
 "nbformat": 4,
 "nbformat_minor": 2
}
