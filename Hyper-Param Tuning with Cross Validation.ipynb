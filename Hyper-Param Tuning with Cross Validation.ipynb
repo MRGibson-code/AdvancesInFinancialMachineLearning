{
 "cells": [
  {
   "cell_type": "code",
   "execution_count": 2,
   "metadata": {},
   "outputs": [],
   "source": [
    "import pandas as pd\n",
    "import numpy as np\n",
    "from sklearn.pipeline import Pipeline\n",
    "import matplotlib.pyplot as mpl"
   ]
  },
  {
   "cell_type": "code",
   "execution_count": 3,
   "metadata": {},
   "outputs": [],
   "source": [
    "from sklearn.model_selection._split import _BaseKFold\n",
    "class PurgedKFold(_BaseKFold):\n",
    "    '''\n",
    "    Extend Kfold to work with labels that span intervals\n",
    "    the train is purged of observations overlapping test-label intervals\n",
    "    test set is assumed contiguous (shuffle=False), w/o training examples in between'''\n",
    "    def __init__(self, n_splits=3, t1=None, pctEmbargo=0.):\n",
    "        if not isinstance(t1, pd.Series):\n",
    "            raise ValueError('must be pd series')\n",
    "        super(PurgedKFold, self).__init__(n_splits, shuffle=False, random_state=None)\n",
    "        self.t1=t1\n",
    "        self.pctEmbargo=pctEmbargo\n",
    "    def split(self, X, y=None, groups=None):\n",
    "        if(X.index==self.t1.index).sum()!=len(self.t1):\n",
    "            raise ValueError('X and thruDateValues must have the same index')\n",
    "        indices = np.arange(X.shape[0])\n",
    "        mbrg = int(X.shape[0]*self.pctEmbargo)\n",
    "        test_starts=[(i[0], i[-1]+1) for i in np.array_split(np.arange(X.shape[0]), self.n_splits)]\n",
    "        for i,j in test_starts:\n",
    "            t0 = self.t1.index[i] #start of test set\n",
    "            test_indices = indices[i:j]\n",
    "            maxT1Idx = self.t1.index.searchsorted(self.t1[test_indices].max())\n",
    "            train_indices = self.t1.index.searchsorted(self.t1[self.t1<=t0].index)\n",
    "            train_indices = np.concatenate((train_indices, indices[maxT1Idx+mbrg:]))\n",
    "            yield train_indices, test_indices"
   ]
  },
  {
   "cell_type": "code",
   "execution_count": 4,
   "metadata": {},
   "outputs": [],
   "source": [
    "class MyPipeline(Pipeline):\n",
    "    def fit(self, X, y, sample_weight=None, **fit_params):\n",
    "        if sample_weight is not None:\n",
    "            fit_params[self.steps[-1][0]+'__sample_weight']=sample_weight\n",
    "        return super(MyPipeline,self).fit(X,y, **fit_params)"
   ]
  },
  {
   "cell_type": "code",
   "execution_count": 5,
   "metadata": {},
   "outputs": [],
   "source": [
    "#grid search cv\n",
    "def clfHyperFit(feat, lb1, t1, pipe_clf, param_grid, cv=3, bagging=[0, None, 1.], rngSearchIter=0, n_jobs=-1, pctEmbargo=0, **fit_params):\n",
    "    if set(lb1.values)=={0,1}:\n",
    "        scoring='f1'#use scoring method f1 for meta labeling because of high number of negatives in this use case\n",
    "    else: \n",
    "        scoring='neg_log_loss'\n",
    "    #1. Hyperparameter search, on training data\n",
    "    inner_cv= PurgedKFold(n_splits=cv, t1=t1, pctEmbargo=pctEmbargo)\n",
    "    if rndSearchIter==0:\n",
    "        gs = GridSearchCV(estimator=pipe_clf,param_grid=param_grid, scoring=scoring, cv=inner_cv, n_jobs=n_jobs, iid=False)\n",
    "    else:\n",
    "        gs = RandomizedSearchCV(estimator=pipe_clf, param_dsitributions=param_grid, scoring=scoring, cv=inner_cv, n_jobs=n_jobs, iid=False, n_iter=rndSearchIter)\n",
    "    gs = gs.fit(feat, lb1, **fit_params).best_estimator_ \n",
    "    #2. Fit validated model on the rest of the dataset\n",
    "    if bagging[1]>0:\n",
    "        gs = BaggingClassifier(base_estimator=MyPipeline(gs.steps), n_estimators=int(bagging[0]), max_samples=float(bagging[1]),max_features=float(bagging[2]), n_jobs=n_jobs)\n",
    "        gs = gs.fit(feat, lb1, sample_weight=fit_params[gs.base_estimator.steps[-1][0]+'__sample_weight'])\n",
    "        gs = Pipeline([('bag', gs)])\n",
    "    return gs\n",
    "        "
   ]
  },
  {
   "cell_type": "code",
   "execution_count": 7,
   "metadata": {},
   "outputs": [
    {
     "name": "stdout",
     "output_type": "stream",
     "text": [
      "KstestResult(statistic=0.008178548334759728, pvalue=0.5153847378549393)\n",
      "count    10000.000000\n",
      "mean        70.602278\n",
      "std        174.120001\n",
      "min          0.001001\n",
      "25%          0.029361\n",
      "50%          0.969305\n",
      "75%         28.917796\n",
      "max        999.480631\n",
      "dtype: float64\n"
     ]
    },
    {
     "data": {
      "image/png": "[encoded data removed]",
      "text/plain": [
       "<Figure size 432x288 with 2 Axes>"
      ]
     },
     "metadata": {},
     "output_type": "display_data"
    }
   ],
   "source": [
    "from scipy.stats import rv_continuous, kstest\n",
    "\n",
    "class logUniform_gen(rv_continuous):\n",
    "    #random numbers log-uniformely distributed between 1 and e\n",
    "    def _cdf(self, x):\n",
    "        return np.log(x/self.a)/np.log(self.b/self.a)\n",
    "def logUniform(a=1, b=np.exp(1)):\n",
    "    return logUniform_gen(a=a, b=b, name='logUniform')\n",
    "\n",
    "a,b,size = 1E-3, 1E3, 10000\n",
    "vals = logUniform(a=a, b=b).rvs(size=size)\n",
    "print(kstest(rvs=np.log(vals), cdf='uniform', args=(np.log(a), np.log(b/a)), N=size))\n",
    "print(pd.Series(vals).describe())\n",
    "mpl.subplot(121)\n",
    "pd.Series(np.log(vals)).hist()\n",
    "mpl.subplot(122)\n",
    "pd.Series(vals).hist()\n",
    "mpl.show()\n"
   ]
  },
  {
   "cell_type": "code",
   "execution_count": null,
   "metadata": {},
   "outputs": [],
   "source": []
  }
 ],
 "metadata": {
  "kernelspec": {
   "display_name": "Python 3",
   "language": "python",
   "name": "python3"
  },
  "language_info": {
   "codemirror_mode": {
    "name": "ipython",
    "version": 3
   },
   "file_extension": ".py",
   "mimetype": "text/x-python",
   "name": "python",
   "nbconvert_exporter": "python",
   "pygments_lexer": "ipython3",
   "version": "3.6.5"
  }
 },
 "nbformat": 4,
 "nbformat_minor": 2
}
